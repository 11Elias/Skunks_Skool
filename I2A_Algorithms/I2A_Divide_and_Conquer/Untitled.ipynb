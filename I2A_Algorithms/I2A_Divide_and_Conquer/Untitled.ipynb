{
 "cells": [
  {
   "cell_type": "markdown",
   "id": "23eb8c29",
   "metadata": {},
   "source": [
    "# Divide and Conquer Algorithm"
   ]
  },
  {
   "cell_type": "markdown",
   "id": "023767f0",
   "metadata": {},
   "source": [
    "This tutorial contains the information about divide and conquer. Before jumping to the divide and conquer, it is important to know what is Divide and Conquer and why we use divide and conquer algorithm rather than the Stranded techniques.\n",
    "\n"
   ]
  },
  {
   "cell_type": "markdown",
   "id": "59d0f734",
   "metadata": {},
   "source": [
    "# Definition "
   ]
  },
  {
   "cell_type": "markdown",
   "id": "3cb4cd40",
   "metadata": {},
   "source": [
    "Divide and conquer (D&C) is an algorithm design paradigm based on multi-branched recursion. A divide and conquer algorithm works by recursively breaking down a problem into two or more sub-problems of the same type, until these become simple enough to be solved directly. The solutions to the sub-problems are then combined to give a solution to the original problem. A typical Divide and Conquer algorithm solves a problem using following three steps."
   ]
  },
  {
   "cell_type": "markdown",
   "id": "9a0c6c88",
   "metadata": {},
   "source": [
    "# Three Steps of D&C\n"
   ]
  },
  {
   "cell_type": "markdown",
   "id": "a2fbb409",
   "metadata": {},
   "source": [
    "1. Divide: Break the problem into sub-problems of same type.\n",
    "2. Conquer: Recursively solve these sub-problems.\n",
    "3. Combine: Combine the solution sub-problems."
   ]
  },
  {
   "cell_type": "markdown",
   "id": "1dfe915d",
   "metadata": {},
   "source": [
    "# Advantages"
   ]
  },
  {
   "cell_type": "markdown",
   "id": "e14b339d",
   "metadata": {},
   "source": [
    "1. Solving difficult problems:\n",
    "Divide and conquer is a powerful tool for solving conceptually difficult problems: all it requires is a way of  breaking the problem into sub-problems, of solving the trivial cases, and of combining sub-problems to the original problem. Similarly, decrease and conquer only requires reducing the problem to a single smaller problem, such as the classic Tower of Hanoi puzzle, which reduces moving a tower of height n to move a tower of height n-1.\n",
    "\n",
    "2. Algorithm efficiency:\n",
    "The divide-and-conquer paradigm often helps in the discovery of efficient algorithms. It was the key, for example, to Karatsuba's fast multiplication method, the quicksort and mergesort algorithms, the Strassen algorithm for matrix multiplication, and fast Fourier transforms.\n",
    "\n",
    "\n",
    "3. Parallelism:\n",
    "Divide-and-conquer algorithms are naturally adapted for execution in multi-processor machines, especially shared-memory systems where the communication of data between processors does not need to be planned in advance because distinct sub-problems can be executed on different processors.\n",
    "\n",
    "4. Memory access:\n",
    "Divide-and-conquer algorithms naturally tend to make efficient use of memory caches. The reason is that once a sub-problem is small enough, it and all its sub-problems can, in principle, be solved within the cache, without accessing the slower main memory. An algorithm designed to exploit the cache in this way is called cache-oblivious, because it does not contain the cache size as an explicit parameter. Moreover, D&C algorithms can be designed for important algorithms (e.g., sorting, FFTs, and matrix multiplication) to be optimal cache-oblivious algorithms–they use the cache in a probably optimal way, in an asymptotic sense, regardless of the cache size. In contrast, the traditional approach to exploiting the cache is blocking, as in loop nest optimization, where the problem is explicitly divided into chunks of the appropriate size—this can also use the cache optimally, but only when the algorithm is tuned for the specific cache sizes of a particular machine.\n",
    "\n",
    "The same advantage exists with regards to other hierarchical storage systems, such as NUMA or virtual memory, as well as for multiple levels of cache: once a sub-problem is small enough, it can be solved within a given level of the hierarchy, without accessing the higher (slower) levels.\n",
    "\n",
    "5. Roundoff control:\n",
    "In computations with rounded arithmetic, e.g. with floating-point numbers, a divide-and-conquer algorithm may yield more accurate results than a superficially equivalent iterative method. For example, one can add N numbers either by a simple loop that adds each datum to a single variable, or by a D&C algorithm called pairwise summation that breaks the data set into two halves, recursively computes the sum of each half, and then adds the two sums. While the second method performs the same number of additions as the first and pays the overhead of the recursive calls, it is usually more accurate"
   ]
  },
  {
   "cell_type": "code",
   "execution_count": null,
   "id": "f3420e52",
   "metadata": {},
   "outputs": [],
   "source": []
  }
 ],
 "metadata": {
  "kernelspec": {
   "display_name": "Python 3 (ipykernel)",
   "language": "python",
   "name": "python3"
  },
  "language_info": {
   "codemirror_mode": {
    "name": "ipython",
    "version": 3
   },
   "file_extension": ".py",
   "mimetype": "text/x-python",
   "name": "python",
   "nbconvert_exporter": "python",
   "pygments_lexer": "ipython3",
   "version": "3.9.7"
  }
 },
 "nbformat": 4,
 "nbformat_minor": 5
}
